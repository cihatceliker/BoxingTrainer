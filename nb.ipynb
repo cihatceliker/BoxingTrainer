{
 "cells": [
  {
   "cell_type": "code",
   "execution_count": 2,
   "metadata": {},
   "outputs": [],
   "source": [
    "from create_workout import create_workout, create_combination\n",
    "\n",
    "COMBINATIONS = [\n",
    "    create_combination(\"up and around\", 3),\n",
    "    create_combination(\"slip and go\", 4),\n",
    "    create_combination(\"hook body\", 4),\n",
    "    create_combination(\"angles\", 2),\n",
    "    create_combination(\"double up\", 4)\n",
    "]\n",
    "\n",
    "NUM_ROUNDS = 5\n",
    "ROUND_LENGTH = 60\n",
    "REST_LENGTH = 30\n",
    "COMB_GAP = 2\n",
    "\n",
    "workout = create_workout(NUM_ROUNDS, ROUND_LENGTH, REST_LENGTH, COMB_GAP, COMBINATIONS)"
   ]
  },
  {
   "cell_type": "code",
   "execution_count": 3,
   "metadata": {},
   "outputs": [
    {
     "data": {
      "text/plain": [
       "['Ə_ƒƒƒƒ__ƓƓ__ƓƓ__ƒƒƒƒ__ƔƔƔƔ__ƒƒƒƒ__ƑƑƑƑ__ƐƐƐ__ƒƒƒƒ__ƔƔƔƔ__ƒƒƏ',\n",
       " 'Ə_ƑƑƑƑ__ƑƑƑƑ__ƔƔƔƔ__ƑƑƑƑ__ƔƔƔƔ__ƓƓ__ƓƓ__ƓƓ__ƑƑƑƑ__ƓƓ__ƔƔƔƔ_Ə',\n",
       " 'Ə_ƐƐƐ__ƑƑƑƑ__ƒƒƒƒ__ƔƔƔƔ__ƓƓ__ƔƔƔƔ__ƒƒƒƒ__ƔƔƔƔ__ƔƔƔƔ__ƒƒƒƒ__Ə',\n",
       " 'Ə_ƑƑƑƑ__ƔƔƔƔ__ƑƑƑƑ__ƑƑƑƑ__ƒƒƒƒ__ƓƓ__ƔƔƔƔ__ƒƒƒƒ__ƑƑƑƑ__ƓƓ__ƔƏ',\n",
       " 'Ə_ƔƔƔƔ__ƒƒƒƒ__ƓƓ__ƑƑƑƑ__ƓƓ__ƒƒƒƒ__ƑƑƑƑ__ƒƒƒƒ__ƔƔƔƔ__ƑƑƑƑ__ƑƏ']"
      ]
     },
     "execution_count": 3,
     "metadata": {},
     "output_type": "execute_result"
    }
   ],
   "source": [
    "k = \"\".join(workout).split(\"_\"*30)\n",
    "k"
   ]
  },
  {
   "cell_type": "code",
   "execution_count": 20,
   "metadata": {},
   "outputs": [],
   "source": [
    "import os\n",
    "from gtts import gTTS\n",
    "from pydub import AudioSegment\n",
    "\n",
    "def text_to_speech(text):\n",
    "    filename = \"tmp/sound.mp3\"\n",
    "    gTTS(text=text, lang=\"en\", slow=False).save(filename)\n",
    "    sound = AudioSegment.from_mp3(filename)\n",
    "    os.remove(filename)\n",
    "    return sound"
   ]
  },
  {
   "cell_type": "code",
   "execution_count": 22,
   "metadata": {},
   "outputs": [],
   "source": [
    "voice = text_to_speech(\"hi there young fellow\")"
   ]
  },
  {
   "cell_type": "code",
   "execution_count": null,
   "metadata": {},
   "outputs": [],
   "source": [
    "sound = AudioSegment.from_mp3(\"sfx/template.mp3\")"
   ]
  },
  {
   "cell_type": "code",
   "execution_count": null,
   "metadata": {},
   "outputs": [],
   "source": [
    "\n",
    "def add_sound(self, sound):\n",
    "    previous_sound = AudioSegment.from_mp3(self.output_fname)\n",
    "    (previous_sound + sound).export(self.output_fname, format=\"mp3\")\n",
    "\n",
    "get_combination_by_id = lambda id_: [comb for comb in combinations if comb[\"id\"] == id_]\n",
    "def create_mp3(self):\n",
    "    flag = False\n",
    "    for idx, second in enumerate(self.workout):\n",
    "        if second == EMPTY_PLACEHOLDER:\n",
    "            flag = False\n",
    "            continue\n",
    "        if flag: continue\n",
    "\n",
    "        comb_id = ord(second) - ASCII_OFFSET\n",
    "\n",
    "        if comb_id == 0:\n",
    "            # adding bell sound after each round\n",
    "            self.add_sound(AudioSegment.from_mp3(\"bell.mp3\"))\n",
    "            continue\n",
    "\n",
    "        combination = self.get_combination_by_id(comb_id)\n",
    "        text = combination[\"name\"]\n",
    "\n",
    "        fname = \"tmp\"+str(comb_id)+\".mp3\"\n",
    "        Speech(text, \"en\").save(fname)\n",
    "\n",
    "        speech_sound = AudioSegment.from_mp3(fname) + 10\n",
    "        silent_gap = AudioSegment.silent(self.comb_gap * 1000)\n",
    "\n",
    "        latest_sound = silent_gap + speech_sound\n",
    "        latest_sound += AudioSegment.silent((combination[\"time\"]*1000 - len(speech_sound)))\n",
    "        self.add_sound(latest_sound)\n",
    "\n",
    "        flag = True\n",
    "        \n",
    "        \n",
    "        \n",
    "        #sound.export(\"cut.mp3\", format=\"mp3\")"
   ]
  }
 ],
 "metadata": {
  "kernelspec": {
   "display_name": "Python 3",
   "language": "python",
   "name": "python3"
  },
  "language_info": {
   "codemirror_mode": {
    "name": "ipython",
    "version": 3
   },
   "file_extension": ".py",
   "mimetype": "text/x-python",
   "name": "python",
   "nbconvert_exporter": "python",
   "pygments_lexer": "ipython3",
   "version": "3.8.5"
  }
 },
 "nbformat": 4,
 "nbformat_minor": 4
}
