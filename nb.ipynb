{
 "cells": [
  {
   "cell_type": "code",
   "execution_count": 15,
   "metadata": {},
   "outputs": [],
   "source": [
    "from gtts import gTTS\n",
    "import os\n",
    "import random, sys\n",
    "from pydub import AudioSegment\n",
    "\n",
    "COMB_ID = 0\n",
    "ASCII_OFFSET = 399\n",
    "EMPTY_PLACEHOLDER = \"_\"\n",
    "\n",
    "# example text to speech\n",
    "#myobj = gTTS(text='slip n go', lang=\"en\", slow=False)\n",
    "#myobj.save(\"welcome.mp3\")\n",
    "#os.system(\"welcome.mp3\")"
   ]
  },
  {
   "cell_type": "code",
   "execution_count": 16,
   "metadata": {},
   "outputs": [],
   "source": [
    "def create_combination(name, expected_time):\n",
    "    global COMB_ID\n",
    "    COMB_ID += 1\n",
    "    return {\n",
    "        \"name\": name,\n",
    "        \"time\": expected_time,\n",
    "        \"id\": COMB_ID\n",
    "    }\n",
    "\n",
    "combinations=[\n",
    "    create_combination(\"up and around\", 3),\n",
    "    create_combination(\"slip and go\", 4),\n",
    "    create_combination(\"hook body\", 4),\n",
    "    create_combination(\"angles\", 2),\n",
    "    create_combination(\"double up\", 4)\n",
    "]"
   ]
  },
  {
   "cell_type": "code",
   "execution_count": 19,
   "metadata": {},
   "outputs": [],
   "source": [
    "def create_round(time, gap, combinations):\n",
    "    schedule = [EMPTY_PLACEHOLDER] * time\n",
    "    second = gap\n",
    "    while second < time:\n",
    "        combination = random.choice(combinations)\n",
    "        for i in range(second, min(second+combination[\"time\"], time)):\n",
    "            schedule[i] = chr(ASCII_OFFSET+combination[\"id\"])\n",
    "        second += combination[\"time\"] + gap\n",
    "    return schedule"
   ]
  },
  {
   "cell_type": "code",
   "execution_count": 21,
   "metadata": {},
   "outputs": [
    {
     "data": {
      "text/plain": [
       "'___ƓƓ___ƐƐƐ___ƔƔƔƔ___ƑƑƑƑ___ƑƑƑƑ___ƑƑƑƑ___ƐƐƐ___ƔƔƔƔ___ƑƑƑƑ___ƓƓ___ƓƓ___ƐƐƐ___ƔƔƔƔ___ƔƔƔƔ___ƒƒƒƒ___ƒƒƒƒ___ƔƔƔƔ___ƓƓ___ƒƒƒƒ___ƓƓ___ƒƒƒƒ___ƑƑƑƑ___ƑƑƑƑ___ƐƐƐ___ƐƐƐ___ƑƑƑƑ___ƑƑƑƑ___ƒƒƒ'"
      ]
     },
     "execution_count": 21,
     "metadata": {},
     "output_type": "execute_result"
    }
   ],
   "source": [
    "\"\".join(create_round(180, 3, combinations))"
   ]
  },
  {
   "cell_type": "code",
   "execution_count": 34,
   "metadata": {},
   "outputs": [],
   "source": [
    "class Workout:\n",
    "\n",
    "    def __init__(self, num_rounds, round_time, rest_time, comb_gap, combinations):\n",
    "        self.workout = []\n",
    "        self.round_time = round_time\n",
    "        self.rest_time = rest_time\n",
    "        self.comb_gap = comb_gap\n",
    "        self.combinations = combinations\n",
    "        self.output_fname = \"output.mp3\"\n",
    "        for i in range(num_rounds):\n",
    "            round_ = create_round(time=round_time, gap=comb_gap, combinations=combinations)\n",
    "            self.workout = [*self.workout, *round_] + [EMPTY_PLACEHOLDER]*rest_time\n",
    "        self.workout = self.workout[:-rest_time]\n",
    "            \n",
    "    def __iter__(self):\n",
    "        for round in self.rounds:\n",
    "            yield round\n",
    "    \n",
    "    def get_combination_by_id(self, id):\n",
    "        for combination in self.combinations:\n",
    "            if combination[\"id\"] == id:\n",
    "                return combination\n",
    "\n",
    "    def add_sound(self, sound):\n",
    "        previous_sound = AudioSegment.from_mp3(self.output_fname)\n",
    "        (previous_sound + sound).export(self.output_fname, format=\"mp3\")\n",
    "\n",
    "    def create_mp3(self):\n",
    "        flag = False\n",
    "        for idx, second in enumerate(self.workout):\n",
    "            if second == EMPTY_PLACEHOLDER:\n",
    "                flag = False\n",
    "                continue\n",
    "            if flag: continue\n",
    "\n",
    "            comb_id = ord(second) - ASCII_OFFSET\n",
    "\n",
    "            combination = self.get_combination_by_id(comb_id)\n",
    "            text = combination[\"name\"]\n",
    "            \n",
    "            fname = \"tmp\"+str(comb_id)+\".mp3\"\n",
    "            Speech(text, \"en\").save(fname)\n",
    "\n",
    "            speech_sound = AudioSegment.from_mp3(fname) + 10\n",
    "            silent_gap = AudioSegment.silent(self.comb_gap * 1000)\n",
    "            \n",
    "            latest_sound = silent_gap + speech_sound\n",
    "            latest_sound += AudioSegment.silent((combination[\"time\"]*1000 - len(speech_sound)))\n",
    "            self.add_sound(latest_sound)\n",
    "\n",
    "            flag = True\n",
    "            \n",
    "            if idx % self.round_time == 0:\n",
    "                # adding bell sound after each round\n",
    "                self.add_sound(AudioSegment.from_mp3(\"bell.mp3\"))"
   ]
  },
  {
   "cell_type": "code",
   "execution_count": 32,
   "metadata": {},
   "outputs": [
    {
     "data": {
      "text/plain": [
       "'___ƓƓ___ƔƔƔƔ___ƓƓ___ƒƒƒƒ___ƓƓ___ƐƐƐ___ƔƔƔƔ___ƒƒƒƒ___ƓƓ___ƑƑƑƑ___ƔƔƔƔ___ƓƓ___ƒƒƒƒ___ƐƐƐ___ƓƓ___ƓƓ___ƐƐƐ___ƑƑƑƑ___ƑƑƑƑ___ƓƓ___ƒƒƒƒ___ƐƐƐ___ƑƑƑƑ___ƒƒƒƒ___ƒƒƒƒ___ƓƓ___ƒƒƒƒ___ƓƓ___ƐƐƐ_________________________________________________________________ƒƒƒƒ___ƑƑƑƑ___ƑƑƑƑ___ƒƒƒƒ___ƓƓ___ƓƓ___ƒƒƒƒ___ƑƑƑƑ___ƔƔƔƔ___ƒƒƒƒ___ƑƑƑƑ___ƒƒƒƒ___ƒƒƒƒ___ƓƓ___ƒƒƒƒ___ƔƔƔƔ___ƐƐƐ___ƑƑƑƑ___ƒƒƒƒ___ƑƑƑƑ___ƑƑƑƑ___ƓƓ___ƔƔƔƔ___ƔƔƔƔ___ƐƐƐ___ƒƒƒƒ___ƓƓ__________________________________________________________________ƔƔƔƔ___ƔƔƔƔ___ƐƐƐ___ƑƑƑƑ___ƓƓ___ƒƒƒƒ___ƐƐƐ___ƑƑƑƑ___ƔƔƔƔ___ƒƒƒƒ___ƒƒƒƒ___ƔƔƔƔ___ƔƔƔƔ___ƓƓ___ƐƐƐ___ƑƑƑƑ___ƑƑƑƑ___ƔƔƔƔ___ƔƔƔƔ___ƒƒƒƒ___ƒƒƒƒ___ƐƐƐ___ƐƐƐ___ƑƑƑƑ___ƑƑƑƑ___ƓƓ___ƓƓ___Ɣ_______________________________________________________________ƔƔƔƔ___ƑƑƑƑ___ƓƓ___ƔƔƔƔ___ƓƓ___ƔƔƔƔ___ƑƑƑƑ___ƑƑƑƑ___ƔƔƔƔ___ƒƒƒƒ___ƓƓ___ƑƑƑƑ___ƔƔƔƔ___ƓƓ___ƑƑƑƑ___ƓƓ___ƔƔƔƔ___ƒƒƒƒ___ƓƓ___ƔƔƔƔ___ƐƐƐ___ƐƐƐ___ƐƐƐ___ƓƓ___ƑƑƑƑ___ƒƒƒƒ___ƔƔƔƔ___ƓƓ__________________________________________________________________ƔƔƔƔ___ƔƔƔƔ___ƔƔƔƔ___ƑƑƑƑ___ƐƐƐ___ƔƔƔƔ___ƐƐƐ___ƐƐƐ___ƓƓ___ƑƑƑƑ___ƒƒƒƒ___ƐƐƐ___ƑƑƑƑ___ƔƔƔƔ___ƑƑƑƑ___ƑƑƑƑ___ƒƒƒƒ___ƑƑƑƑ___ƑƑƑƑ___ƒƒƒƒ___ƐƐƐ___ƔƔƔƔ___ƓƓ___ƐƐƐ___ƑƑƑƑ___ƒƒƒƒ___ƑƑƑƑ_'"
      ]
     },
     "execution_count": 32,
     "metadata": {},
     "output_type": "execute_result"
    }
   ],
   "source": [
    "\"\".join(workout.workout)"
   ]
  },
  {
   "cell_type": "code",
   "execution_count": 31,
   "metadata": {},
   "outputs": [],
   "source": [
    "workout = Workout(num_rounds=5, round_time=180, rest_time=60, comb_gap=3, combinations=combinations)\n",
    "#for round in workout: print(round)\n",
    "\n",
    "#workout.create_mp3()\n"
   ]
  },
  {
   "cell_type": "code",
   "execution_count": null,
   "metadata": {},
   "outputs": [],
   "source": [
    "from pydub import AudioSegment\n",
    "from google_speech import Speech\n",
    "\n",
    "\n",
    "sound = AudioSegment.from_mp3(\"s.mp3\")\n",
    "print(len(sound))\n",
    "\n",
    "sound = sound[1215000:]\n",
    "\n",
    "print(\"exporting\")\n",
    "sound.export(\"cut.mp3\", format=\"mp3\")\n"
   ]
  }
 ],
 "metadata": {
  "kernelspec": {
   "display_name": "Python 3",
   "language": "python",
   "name": "python3"
  },
  "language_info": {
   "codemirror_mode": {
    "name": "ipython",
    "version": 3
   },
   "file_extension": ".py",
   "mimetype": "text/x-python",
   "name": "python",
   "nbconvert_exporter": "python",
   "pygments_lexer": "ipython3",
   "version": "3.8.5"
  }
 },
 "nbformat": 4,
 "nbformat_minor": 4
}
