{
 "cells": [
  {
   "cell_type": "code",
   "execution_count": 3,
   "metadata": {},
   "outputs": [],
   "source": [
    "import random\n",
    "\n",
    "COMB_ID = 0\n",
    "ASCII_OFFSET = 399\n",
    "EMPTY_PLACEHOLDER = \"_\"\n",
    "\n",
    "def create_combination(name, expected_time):\n",
    "    global COMB_ID\n",
    "    COMB_ID += 1\n",
    "    return {\n",
    "        \"name\": name,\n",
    "        \"time\": expected_time,\n",
    "        \"id\": COMB_ID\n",
    "    }\n",
    "\n",
    "def create_workout(num_rounds, round_time, rest_time, comb_gap, combinations):\n",
    "    workout = []\n",
    "    for i in range(num_rounds):\n",
    "        schedule = [EMPTY_PLACEHOLDER] * round_time\n",
    "        second = comb_gap\n",
    "        while second < round_time:\n",
    "            combination = random.choice(combinations)\n",
    "            for i in range(second, min(second+combination[\"time\"], round_time)):\n",
    "                schedule[i] = chr(ASCII_OFFSET+combination[\"id\"])\n",
    "            second += combination[\"time\"] + comb_gap\n",
    "        schedule[::len(schedule)-1] = [chr(ASCII_OFFSET)]*2\n",
    "        workout = [*workout, *schedule] + [EMPTY_PLACEHOLDER]*rest_time\n",
    "    return workout[:-rest_time]"
   ]
  },
  {
   "cell_type": "code",
   "execution_count": 4,
   "metadata": {},
   "outputs": [],
   "source": [
    "COMBINATIONS = [\n",
    "    create_combination(\"up and around\", 3),\n",
    "    create_combination(\"slip and go\", 4),\n",
    "    create_combination(\"hook body\", 4),\n",
    "    create_combination(\"angles\", 2),\n",
    "    create_combination(\"double up\", 4)\n",
    "]\n",
    "NUM_ROUNDS = 5\n",
    "ROUND_LENGTH = 60\n",
    "REST_LENGTH = 30\n",
    "COMB_GAP = 2\n",
    "\n",
    "workout = create_workout(NUM_ROUNDS, ROUND_LENGTH, REST_LENGTH, COMB_GAP, COMBINATIONS)"
   ]
  },
  {
   "cell_type": "code",
   "execution_count": 6,
   "metadata": {},
   "outputs": [
    {
     "data": {
      "text/plain": [
       "['Ə_ƒƒƒƒ__ƔƔƔƔ__ƑƑƑƑ__ƔƔƔƔ__ƓƓ__ƑƑƑƑ__ƓƓ__ƓƓ__ƒƒƒƒ__ƐƐƐ__ƔƔƔƔƏ',\n",
       " 'Ə_ƔƔƔƔ__ƔƔƔƔ__ƐƐƐ__ƓƓ__ƓƓ__ƑƑƑƑ__ƓƓ__ƑƑƑƑ__ƐƐƐ__ƐƐƐ__ƐƐƐ__ƑƏ',\n",
       " 'Ə_ƐƐƐ__ƐƐƐ__ƓƓ__ƑƑƑƑ__ƓƓ__ƐƐƐ__ƔƔƔƔ__ƔƔƔƔ__ƒƒƒƒ__ƒƒƒƒ__ƑƑƑƑƏ',\n",
       " 'Ə_ƒƒƒƒ__ƔƔƔƔ__ƔƔƔƔ__ƔƔƔƔ__ƑƑƑƑ__ƓƓ__ƓƓ__ƔƔƔƔ__ƓƓ__ƓƓ__ƓƓ__ƒƏ',\n",
       " 'Ə_ƐƐƐ__ƔƔƔƔ__ƓƓ__ƒƒƒƒ__ƔƔƔƔ__ƓƓ__ƒƒƒƒ__ƑƑƑƑ__ƐƐƐ__ƔƔƔƔ__ƓƓ_Ə']"
      ]
     },
     "execution_count": 6,
     "metadata": {},
     "output_type": "execute_result"
    }
   ],
   "source": [
    "k = \"\".join(workout).split(\"_\"*30)\n",
    "k"
   ]
  },
  {
   "cell_type": "code",
   "execution_count": null,
   "metadata": {},
   "outputs": [],
   "source": []
  },
  {
   "cell_type": "code",
   "execution_count": null,
   "metadata": {},
   "outputs": [],
   "source": [
    "from gtts import gTTS\n",
    "from pydub import AudioSegment\n",
    "\n",
    "\n",
    "# example text to speech\n",
    "#myobj = gTTS(text='slip n go', lang=\"en\", slow=False)\n",
    "#myobj.save(\"welcome.mp3\")\n",
    "#os.system(\"welcome.mp3\")"
   ]
  },
  {
   "cell_type": "code",
   "execution_count": null,
   "metadata": {},
   "outputs": [],
   "source": [
    "sound = AudioSegment.from_mp3(\"sfx/template.mp3\")"
   ]
  },
  {
   "cell_type": "code",
   "execution_count": null,
   "metadata": {},
   "outputs": [],
   "source": [
    "\n",
    "def add_sound(self, sound):\n",
    "    previous_sound = AudioSegment.from_mp3(self.output_fname)\n",
    "    (previous_sound + sound).export(self.output_fname, format=\"mp3\")\n",
    "\n",
    "get_combination_by_id = lambda id_: [comb for comb in combinations if comb[\"id\"] == id_]\n",
    "def create_mp3(self):\n",
    "    flag = False\n",
    "    for idx, second in enumerate(self.workout):\n",
    "        if second == EMPTY_PLACEHOLDER:\n",
    "            flag = False\n",
    "            continue\n",
    "        if flag: continue\n",
    "\n",
    "        comb_id = ord(second) - ASCII_OFFSET\n",
    "\n",
    "        if comb_id == 0:\n",
    "            # adding bell sound after each round\n",
    "            self.add_sound(AudioSegment.from_mp3(\"bell.mp3\"))\n",
    "            continue\n",
    "\n",
    "        combination = self.get_combination_by_id(comb_id)\n",
    "        text = combination[\"name\"]\n",
    "\n",
    "        fname = \"tmp\"+str(comb_id)+\".mp3\"\n",
    "        Speech(text, \"en\").save(fname)\n",
    "\n",
    "        speech_sound = AudioSegment.from_mp3(fname) + 10\n",
    "        silent_gap = AudioSegment.silent(self.comb_gap * 1000)\n",
    "\n",
    "        latest_sound = silent_gap + speech_sound\n",
    "        latest_sound += AudioSegment.silent((combination[\"time\"]*1000 - len(speech_sound)))\n",
    "        self.add_sound(latest_sound)\n",
    "\n",
    "        flag = True"
   ]
  },
  {
   "cell_type": "code",
   "execution_count": null,
   "metadata": {},
   "outputs": [],
   "source": []
  },
  {
   "cell_type": "code",
   "execution_count": null,
   "metadata": {},
   "outputs": [],
   "source": []
  },
  {
   "cell_type": "code",
   "execution_count": null,
   "metadata": {},
   "outputs": [],
   "source": [
    "gaps = []\n",
    "\n",
    "cnt = 0\n",
    "for char in workout.workout:\n",
    "    if cnt != 0 and char == EMPTY_PLACEHOLDER:\n",
    "        cnt += 1\n",
    "    elif char == EMPTY_PLACEHOLDER and cnt == 0:\n",
    "        cnt = 1\n",
    "    else:\n",
    "        gaps.append(cnt)\n",
    "        cnt = 0"
   ]
  },
  {
   "cell_type": "code",
   "execution_count": null,
   "metadata": {},
   "outputs": [],
   "source": [
    "import numpy as np"
   ]
  },
  {
   "cell_type": "code",
   "execution_count": null,
   "metadata": {},
   "outputs": [],
   "source": [
    "np.unique(gaps)"
   ]
  },
  {
   "cell_type": "code",
   "execution_count": null,
   "metadata": {},
   "outputs": [],
   "source": [
    "from pydub import AudioSegment\n",
    "from google_speech import Speech\n",
    "\n",
    "\n",
    "sound = AudioSegment.from_mp3(\"s.mp3\")\n",
    "print(len(sound))\n",
    "\n",
    "sound = sound[1215000:]\n",
    "\n",
    "print(\"exporting\")\n",
    "sound.export(\"cut.mp3\", format=\"mp3\")\n"
   ]
  }
 ],
 "metadata": {
  "kernelspec": {
   "display_name": "Python 3",
   "language": "python",
   "name": "python3"
  },
  "language_info": {
   "codemirror_mode": {
    "name": "ipython",
    "version": 3
   },
   "file_extension": ".py",
   "mimetype": "text/x-python",
   "name": "python",
   "nbconvert_exporter": "python",
   "pygments_lexer": "ipython3",
   "version": "3.8.5"
  }
 },
 "nbformat": 4,
 "nbformat_minor": 4
}
